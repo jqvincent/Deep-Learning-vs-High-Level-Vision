{
 "cells": [
  {
   "cell_type": "code",
   "execution_count": 38,
   "metadata": {},
   "outputs": [],
   "source": [
    "%matplotlib inline\n",
    "import pickle\n",
    "import numpy as np\n",
    "from caffe2.proto import caffe2_pb2\n",
    "from matplotlib import pyplot\n",
    "from io import StringIO\n",
    "from caffe2.python import core, utils, workspace\n",
    "from caffe2.python import model_helper, brew"
   ]
  },
  {
   "cell_type": "code",
   "execution_count": 39,
   "metadata": {},
   "outputs": [],
   "source": [
    "def load_pkl(path, label):\n",
    "    with open(path, 'rb') as f:\n",
    "        kps_w_imname = pickle.load(f)\n",
    "    labels = np.ones(len(kps_w_imname)).astype(int) * label\n",
    "    \n",
    "    # retrieve only the keypoints without image name\n",
    "    kps = []\n",
    "    for i, el_ in enumerate(kps_w_imname):\n",
    "        kps.append(kps_w_imname[i][1]) # [0] is image name, [1] is kps\n",
    "    return kps, labels"
   ]
  },
  {
   "cell_type": "markdown",
   "metadata": {},
   "source": [
    "### KPS"
   ]
  },
  {
   "cell_type": "code",
   "execution_count": 40,
   "metadata": {},
   "outputs": [
    {
     "name": "stdout",
     "output_type": "stream",
     "text": [
      "825\n"
     ]
    }
   ],
   "source": [
    "yes_path = \"/home/hercules/Documents/detectron/extract-features/sitting_rgb/train/yes/kps.pkl\"\n",
    "label = 1 # 0 if no, 1 if yes\n",
    "tr_yes_kps, tr_yes_labels = load_pkl(yes_path, label)\n",
    "print(len(tr_yes_kps))"
   ]
  },
  {
   "cell_type": "code",
   "execution_count": 41,
   "metadata": {},
   "outputs": [
    {
     "data": {
      "text/plain": [
       "35"
      ]
     },
     "execution_count": 41,
     "metadata": {},
     "output_type": "execute_result"
    }
   ],
   "source": [
    "len(tr_yes_kps[2])"
   ]
  },
  {
   "cell_type": "code",
   "execution_count": 42,
   "metadata": {},
   "outputs": [
    {
     "name": "stdout",
     "output_type": "stream",
     "text": [
      "815\n"
     ]
    }
   ],
   "source": [
    "no_path = \"/home/hercules/Documents/detectron/extract-features/sitting_rgb/train/no/kps.pkl\"\n",
    "label = 0 # 0 if no, 1 if yes\n",
    "tr_no_kps, tr_no_labels = load_pkl(no_path, label)\n",
    "print(len(tr_no_kps))"
   ]
  },
  {
   "cell_type": "code",
   "execution_count": 43,
   "metadata": {},
   "outputs": [
    {
     "name": "stdout",
     "output_type": "stream",
     "text": [
      "815\n"
     ]
    }
   ],
   "source": [
    "# CORRECT THE IMBALANCE\n",
    "tr_yes_kps, tr_yes_labels = tr_yes_kps[:815], tr_yes_labels[:815]\n",
    "print(len(tr_yes_kps))"
   ]
  },
  {
   "cell_type": "code",
   "execution_count": 44,
   "metadata": {},
   "outputs": [
    {
     "name": "stdout",
     "output_type": "stream",
     "text": [
      "110\n"
     ]
    }
   ],
   "source": [
    "yes_path = \"/home/hercules/Documents/detectron/extract-features/sitting_rgb/test/yes/kps.pkl\"\n",
    "label = 1 # 0 if no, 1 if yes\n",
    "te_yes_kps, te_yes_labels = load_pkl(yes_path, label)\n",
    "print(len(te_yes_kps))"
   ]
  },
  {
   "cell_type": "code",
   "execution_count": 45,
   "metadata": {},
   "outputs": [
    {
     "name": "stdout",
     "output_type": "stream",
     "text": [
      "109\n"
     ]
    }
   ],
   "source": [
    "no_path = \"/home/hercules/Documents/detectron/extract-features/sitting_rgb/test/no/kps.pkl\"\n",
    "label = 0 # 0 if no, 1 if yes\n",
    "te_no_kps, te_no_labels = load_pkl(no_path, label)\n",
    "print(len(te_no_kps))"
   ]
  },
  {
   "cell_type": "markdown",
   "metadata": {},
   "source": [
    "### FEATURES"
   ]
  },
  {
   "cell_type": "code",
   "execution_count": 46,
   "metadata": {},
   "outputs": [
    {
     "name": "stdout",
     "output_type": "stream",
     "text": [
      "825\n"
     ]
    }
   ],
   "source": [
    "yes_path = \"/home/hercules/Documents/detectron/extract-features/sitting_rgb/train/yes/human_features.pkl\"\n",
    "label = 1 # 0 if no, 1 if yes\n",
    "tr_yes_feats, tr_yes_labels = load_pkl(yes_path, label)\n",
    "print(len(tr_yes_feats))"
   ]
  },
  {
   "cell_type": "code",
   "execution_count": 47,
   "metadata": {},
   "outputs": [
    {
     "name": "stdout",
     "output_type": "stream",
     "text": [
      "815\n"
     ]
    }
   ],
   "source": [
    "no_path = \"/home/hercules/Documents/detectron/extract-features/sitting_rgb/train/no/human_features.pkl\"\n",
    "label = 0 # 0 if no, 1 if yes\n",
    "tr_no_feats, tr_no_labels = load_pkl(no_path, label)\n",
    "print(len(tr_no_feats))"
   ]
  },
  {
   "cell_type": "code",
   "execution_count": 48,
   "metadata": {},
   "outputs": [
    {
     "name": "stdout",
     "output_type": "stream",
     "text": [
      "815\n"
     ]
    }
   ],
   "source": [
    "# CORRECT THE IMBALANCE\n",
    "tr_yes_feats, tr_yes_labels = tr_yes_feats[:815], tr_yes_labels[:815]\n",
    "print(len(tr_yes_kps))"
   ]
  },
  {
   "cell_type": "code",
   "execution_count": 49,
   "metadata": {},
   "outputs": [
    {
     "name": "stdout",
     "output_type": "stream",
     "text": [
      "110\n"
     ]
    }
   ],
   "source": [
    "yes_path = \"/home/hercules/Documents/detectron/extract-features/sitting_rgb/test/yes/human_features.pkl\"\n",
    "label = 1 # 0 if no, 1 if yes\n",
    "te_yes_feats, te_yes_labels = load_pkl(yes_path, label)\n",
    "print(len(te_yes_feats))"
   ]
  },
  {
   "cell_type": "code",
   "execution_count": 50,
   "metadata": {},
   "outputs": [
    {
     "name": "stdout",
     "output_type": "stream",
     "text": [
      "109\n"
     ]
    }
   ],
   "source": [
    "no_path = \"/home/hercules/Documents/detectron/extract-features/sitting_rgb/test/no/human_features.pkl\"\n",
    "label = 0 # 0 if no, 1 if yes\n",
    "te_no_feats, te_no_labels = load_pkl(no_path, label)\n",
    "print(len(te_no_feats))"
   ]
  },
  {
   "cell_type": "code",
   "execution_count": 51,
   "metadata": {},
   "outputs": [
    {
     "data": {
      "text/plain": [
       "12544"
      ]
     },
     "execution_count": 51,
     "metadata": {},
     "output_type": "execute_result"
    }
   ],
   "source": [
    "len(te_no_feats[3])"
   ]
  },
  {
   "cell_type": "markdown",
   "metadata": {},
   "source": [
    "### randomize train - test"
   ]
  },
  {
   "cell_type": "code",
   "execution_count": 52,
   "metadata": {},
   "outputs": [],
   "source": [
    "train_indices = np.random.permutation(len(tr_yes_feats) + len(tr_no_feats))\n",
    "test_indices = np.random.permutation(len(te_yes_feats) + len(te_no_feats))"
   ]
  },
  {
   "cell_type": "code",
   "execution_count": 53,
   "metadata": {},
   "outputs": [],
   "source": [
    "# keypoints\n",
    "train_data = np.concatenate((np.asarray(tr_no_kps),np.asarray(tr_yes_kps)))\n",
    "train_labels = np.concatenate((np.asarray(tr_no_labels),np.asarray(tr_yes_labels)))\n",
    "kps_train_data = train_data[train_indices]\n",
    "kps_train_labels = train_labels[train_indices]\n",
    "\n",
    "test_data = np.concatenate((np.asarray(te_no_kps),np.asarray(te_yes_kps)))\n",
    "test_labels = np.concatenate((np.asarray(te_no_labels),np.asarray(te_yes_labels)))\n",
    "kps_test_data = test_data[test_indices]\n",
    "kps_test_labels = test_labels[test_indices]"
   ]
  },
  {
   "cell_type": "code",
   "execution_count": 54,
   "metadata": {},
   "outputs": [],
   "source": [
    "# features\n",
    "train_data = np.concatenate((np.asarray(tr_no_feats),np.asarray(tr_yes_feats)))\n",
    "train_labels = np.concatenate((np.asarray(tr_no_labels),np.asarray(tr_yes_labels)))\n",
    "feats_train_data = train_data[train_indices]\n",
    "feats_train_labels = train_labels[train_indices]\n",
    "\n",
    "test_data = np.concatenate((np.asarray(te_no_feats),np.asarray(te_yes_feats)))\n",
    "test_labels = np.concatenate((np.asarray(te_no_labels),np.asarray(te_yes_labels)))\n",
    "feats_test_data = test_data[test_indices]\n",
    "feats_test_labels = test_labels[test_indices]"
   ]
  },
  {
   "cell_type": "markdown",
   "metadata": {},
   "source": [
    "### merge features and kps"
   ]
  },
  {
   "cell_type": "code",
   "execution_count": 15,
   "metadata": {},
   "outputs": [],
   "source": [
    "def group_vectors(features, kps):\n",
    "    data = []\n",
    "    for j, elem in enumerate(features):\n",
    "        data.append(np.concatenate(([features[j]/5.0,kps[j]-0.5])))\n",
    "    return np.asarray(data)"
   ]
  },
  {
   "cell_type": "code",
   "execution_count": 17,
   "metadata": {},
   "outputs": [],
   "source": [
    "train_data = group_vectors(feats_train_data, kps_train_data)\n",
    "test_data = group_vectors(feats_test_data, kps_test_data)\n",
    "train_labels = kps_train_labels\n",
    "test_labels = kps_test_labels"
   ]
  },
  {
   "cell_type": "code",
   "execution_count": 74,
   "metadata": {},
   "outputs": [
    {
     "name": "stdout",
     "output_type": "stream",
     "text": [
      "[ 0.29057613  0.3654477   0.58189404  0.2767809  -0.18224943 -0.78286034\n",
      " -0.57301581 -0.01554741 -0.21917693 -0.29260701]\n"
     ]
    }
   ],
   "source": [
    "print(train_data[2][30:40])"
   ]
  },
  {
   "cell_type": "code",
   "execution_count": 23,
   "metadata": {},
   "outputs": [],
   "source": [
    "def new_(data):\n",
    "    newdata = []\n",
    "    for j, elem in enumerate(data):\n",
    "        newdata.append(data[j][:-35])\n",
    "    return np.asarray(newdata)"
   ]
  },
  {
   "cell_type": "code",
   "execution_count": 24,
   "metadata": {},
   "outputs": [],
   "source": [
    "train_data = new_(train_data)\n",
    "test_data = new_(test_data)"
   ]
  },
  {
   "cell_type": "markdown",
   "metadata": {},
   "source": [
    "### if not a pre-split dataset..."
   ]
  },
  {
   "cell_type": "code",
   "execution_count": null,
   "metadata": {},
   "outputs": [],
   "source": [
    "all_feats = np.concatenate((np.asarray(no_data),np.asarray(yes_data)))\n",
    "len(all_feats)\n",
    "all_labels = np.concatenate((label_no, adj_label_yes))\n",
    "len(all_labels)\n",
    "\n",
    "random_index = np.random.permutation(len(all_feats))\n",
    "features = all_feats[random_index]\n",
    "labels = all_labels[random_index]"
   ]
  },
  {
   "cell_type": "code",
   "execution_count": 39,
   "metadata": {},
   "outputs": [],
   "source": [
    "# split\n",
    "percent = 0.90\n",
    "split_tr_te = int(len(all_feats) * percent)\n",
    "train_features = features[:split_tr_te]\n",
    "train_labels = labels[:split_tr_te]\n",
    "test_features = features[split_tr_te:]\n",
    "test_labels = labels[split_tr_te:]"
   ]
  },
  {
   "cell_type": "code",
   "execution_count": 40,
   "metadata": {},
   "outputs": [],
   "source": [
    "# CORRECT THE IMBALANCE\n",
    "test_features = np.concatenate((test_features,supp_yes_data))\n",
    "test_labels = np.concatenate((test_labels,supp_label_yes))"
   ]
  },
  {
   "cell_type": "markdown",
   "metadata": {},
   "source": [
    "### Save as minidb"
   ]
  },
  {
   "cell_type": "code",
   "execution_count": 71,
   "metadata": {},
   "outputs": [],
   "source": [
    "train_data, train_labels = kps_train_data, kps_train_labels\n",
    "test_data, test_labels = kps_test_data, kps_test_labels"
   ]
  },
  {
   "cell_type": "code",
   "execution_count": 61,
   "metadata": {},
   "outputs": [],
   "source": [
    "train_data, train_labels = feats_train_data, feats_train_labels\n",
    "test_data, test_labels = feats_test_data, feats_test_labels"
   ]
  },
  {
   "cell_type": "code",
   "execution_count": 62,
   "metadata": {},
   "outputs": [],
   "source": [
    "# Now, actually write the db.\n",
    "def write_db(db_type, db_name, features, labels):\n",
    "    db = core.C.create_db(db_type, db_name, core.C.Mode.write)\n",
    "    transaction = db.new_transaction()\n",
    "    for i in range(features.shape[0]):\n",
    "        feature_and_label = caffe2_pb2.TensorProtos()\n",
    "        feature_and_label.protos.extend([\n",
    "            utils.NumpyArrayToCaffe2Tensor(features[i]),\n",
    "            utils.NumpyArrayToCaffe2Tensor(labels[i])\n",
    "        ])\n",
    "        transaction.put(\n",
    "            'train_%03d'.format(i),\n",
    "            feature_and_label.SerializeToString())\n",
    "    # Close the transaction, and then close the db.\n",
    "    del transaction\n",
    "    del db\n",
    "\n",
    "write_db(\"minidb\", \"sit_train.minidb\", train_data, train_labels)\n",
    "write_db(\"minidb\", \"sit_test.minidb\", test_data, test_labels)"
   ]
  },
  {
   "cell_type": "markdown",
   "metadata": {},
   "source": [
    "### SVM"
   ]
  },
  {
   "cell_type": "code",
   "execution_count": 76,
   "metadata": {},
   "outputs": [],
   "source": [
    "# for the support vector machine classifier\n",
    "import sklearn\n",
    "from sklearn import datasets, svm, metrics"
   ]
  },
  {
   "cell_type": "code",
   "execution_count": 77,
   "metadata": {},
   "outputs": [
    {
     "data": {
      "text/plain": [
       "SVC(C=1, break_ties=False, cache_size=200, class_weight=None, coef0=0.0,\n",
       "    decision_function_shape='ovr', degree=3, gamma='scale', kernel='linear',\n",
       "    max_iter=-1, probability=True, random_state=None, shrinking=True, tol=0.001,\n",
       "    verbose=False)"
      ]
     },
     "execution_count": 77,
     "metadata": {},
     "output_type": "execute_result"
    }
   ],
   "source": [
    "model = sklearn.svm.SVC(kernel=\"linear\", C=1, probability=True)\n",
    "model.fit(train_data, train_labels)"
   ]
  },
  {
   "cell_type": "code",
   "execution_count": 78,
   "metadata": {},
   "outputs": [
    {
     "name": "stdout",
     "output_type": "stream",
     "text": [
      "Accuracy training : 0.6208588957055214 \n"
     ]
    }
   ],
   "source": [
    "predicted_tr = model.predict(train_data)\n",
    "print(\"Accuracy training : %s \" % metrics.accuracy_score(train_labels, predicted_tr))"
   ]
  },
  {
   "cell_type": "code",
   "execution_count": 79,
   "metadata": {},
   "outputs": [
    {
     "name": "stdout",
     "output_type": "stream",
     "text": [
      "Classification report for classifier SVC(C=1, break_ties=False, cache_size=200, class_weight=None, coef0=0.0,\n",
      "    decision_function_shape='ovr', degree=3, gamma='scale', kernel='linear',\n",
      "    max_iter=-1, probability=True, random_state=None, shrinking=True, tol=0.001,\n",
      "    verbose=False):\n",
      "              precision    recall  f1-score   support\n",
      "\n",
      "           0       0.71      0.40      0.51       109\n",
      "           1       0.59      0.84      0.69       110\n",
      "\n",
      "    accuracy                           0.62       219\n",
      "   macro avg       0.65      0.62      0.60       219\n",
      "weighted avg       0.65      0.62      0.60       219\n",
      "\n",
      "\n",
      "Confusion matrix:\n",
      " [[44 65]\n",
      " [18 92]] \n",
      "\n",
      "Accuracy : 0.6210045662100456 \n"
     ]
    }
   ],
   "source": [
    "# predictions and stats\n",
    "expected = test_labels\n",
    "predicted = model.predict(test_data)\n",
    "\n",
    "print(\"Classification report for classifier %s:\\n%s\\n\"\n",
    "      % (model, metrics.classification_report(expected, predicted)))\n",
    "print(\"Confusion matrix:\\n %s \\n\" % metrics.confusion_matrix(expected, predicted))\n",
    "print(\"Accuracy : %s \" % metrics.accuracy_score(expected, predicted))"
   ]
  },
  {
   "cell_type": "code",
   "execution_count": null,
   "metadata": {},
   "outputs": [],
   "source": []
  }
 ],
 "metadata": {
  "kernelspec": {
   "display_name": "caffe2",
   "language": "python",
   "name": "caffe2"
  },
  "language_info": {
   "codemirror_mode": {
    "name": "ipython",
    "version": 3
   },
   "file_extension": ".py",
   "mimetype": "text/x-python",
   "name": "python",
   "nbconvert_exporter": "python",
   "pygments_lexer": "ipython3",
   "version": "3.7.6"
  }
 },
 "nbformat": 4,
 "nbformat_minor": 2
}
