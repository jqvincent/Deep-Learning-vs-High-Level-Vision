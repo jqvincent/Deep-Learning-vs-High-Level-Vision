{
 "cells": [
  {
   "cell_type": "code",
   "execution_count": 1,
   "metadata": {},
   "outputs": [],
   "source": [
    "%matplotlib inline\n",
    "import pickle\n",
    "import numpy as np\n",
    "from caffe2.proto import caffe2_pb2\n",
    "from matplotlib import pyplot\n",
    "from io import StringIO\n",
    "from caffe2.python import core, utils, workspace\n",
    "from caffe2.python import model_helper, brew"
   ]
  },
  {
   "cell_type": "code",
   "execution_count": 2,
   "metadata": {},
   "outputs": [],
   "source": [
    "def load_pkl(path):\n",
    "    with open(path, 'rb') as f:\n",
    "        features_w_imname = pickle.load(f)\n",
    "        return features_w_imname"
   ]
  },
  {
   "cell_type": "markdown",
   "metadata": {},
   "source": [
    "### Train"
   ]
  },
  {
   "cell_type": "markdown",
   "metadata": {},
   "source": [
    "##### features"
   ]
  },
  {
   "cell_type": "code",
   "execution_count": 3,
   "metadata": {},
   "outputs": [],
   "source": [
    "no_feats_txtbox = load_pkl(\"reading_gray/train/no/textbox_features.pkl\")\n",
    "yes_feats_txtbox = load_pkl(\"reading_gray/train/yes/textbox_features.pkl\")\n",
    "no_feats_human = load_pkl(\"reading_gray/train/no/human_features.pkl\")\n",
    "yes_feats_human = load_pkl(\"reading_gray/train/yes/human_features.pkl\")"
   ]
  },
  {
   "cell_type": "markdown",
   "metadata": {},
   "source": [
    "##### combined features"
   ]
  },
  {
   "cell_type": "code",
   "execution_count": 4,
   "metadata": {},
   "outputs": [],
   "source": [
    "no_feats_combined = load_pkl(\"reading_gray/train/no/human-txtbox-combined.pkl\")\n",
    "yes_feats_combined = load_pkl(\"reading_gray/train/yes/human-txtbox-combined.pkl\")"
   ]
  },
  {
   "cell_type": "markdown",
   "metadata": {},
   "source": [
    "##### keypoints"
   ]
  },
  {
   "cell_type": "code",
   "execution_count": 4,
   "metadata": {},
   "outputs": [],
   "source": [
    "no_kps_txtbox = load_pkl(\"reading_gray/train/no/textbox_boundingbox.pkl\")\n",
    "yes_kps_txtbox = load_pkl(\"reading_gray/train/yes/textbox_boundingbox.pkl\")\n",
    "no_kps_human = load_pkl(\"reading_gray/train/no/kps.pkl\")\n",
    "yes_kps_human = load_pkl(\"reading_gray/train/yes/kps.pkl\")"
   ]
  },
  {
   "cell_type": "markdown",
   "metadata": {},
   "source": [
    "### Test"
   ]
  },
  {
   "cell_type": "markdown",
   "metadata": {},
   "source": [
    "##### features"
   ]
  },
  {
   "cell_type": "code",
   "execution_count": 4,
   "metadata": {},
   "outputs": [],
   "source": [
    "te_no_feats_txtbox = load_pkl(\"reading_gray/test/no/textbox_features.pkl\")\n",
    "te_yes_feats_txtbox = load_pkl(\"reading_gray/test/yes/textbox_features.pkl\")\n",
    "te_no_feats_human = load_pkl(\"reading_gray/test/no/human_features.pkl\")\n",
    "te_yes_feats_human = load_pkl(\"reading_gray/test/yes/human_features.pkl\")"
   ]
  },
  {
   "cell_type": "markdown",
   "metadata": {},
   "source": [
    "##### combined features"
   ]
  },
  {
   "cell_type": "code",
   "execution_count": 5,
   "metadata": {},
   "outputs": [],
   "source": [
    "te_no_feats_combined = load_pkl(\"reading_gray/test/no/human-txtbox-combined.pkl\")\n",
    "te_yes_feats_combined = load_pkl(\"reading_gray/test/yes/human-txtbox-combined.pkl\")"
   ]
  },
  {
   "cell_type": "markdown",
   "metadata": {},
   "source": [
    "##### keypoints"
   ]
  },
  {
   "cell_type": "code",
   "execution_count": 5,
   "metadata": {},
   "outputs": [],
   "source": [
    "te_no_kps_txtbox = load_pkl(\"reading_gray/test/no/textbox_boundingbox.pkl\")\n",
    "te_yes_kps_txtbox = load_pkl(\"reading_gray/test/yes/textbox_boundingbox.pkl\")\n",
    "te_no_kps_human = load_pkl(\"reading_gray/test/no/kps.pkl\")\n",
    "te_yes_kps_human = load_pkl(\"reading_gray/test/yes/kps.pkl\")"
   ]
  },
  {
   "cell_type": "markdown",
   "metadata": {},
   "source": [
    "### combine features"
   ]
  },
  {
   "cell_type": "code",
   "execution_count": 6,
   "metadata": {},
   "outputs": [],
   "source": [
    "def group_vectors(feats1, feats2, label):\n",
    "    data = []\n",
    "    for i, elem1 in enumerate(feats1):\n",
    "        #print(elem1[1]) #im_name is [1] for feats_txtbox\n",
    "        for j, elem2 in enumerate(feats2):\n",
    "            #print(elem2[0]) #im_name is [0] for feats_human\n",
    "            if elem1[1] == elem2[0]:\n",
    "                data.append(np.concatenate((elem1[0], elem2[1]), axis=None))\n",
    "    \n",
    "    labels = np.ones(len(data)).astype(int) * label\n",
    "    \n",
    "    return np.asarray(data), labels"
   ]
  },
  {
   "cell_type": "code",
   "execution_count": 8,
   "metadata": {},
   "outputs": [
    {
     "name": "stdout",
     "output_type": "stream",
     "text": [
      "801\n"
     ]
    }
   ],
   "source": [
    "# CORRECT THE IMBALANCE\n",
    "yes_feats, yes_labels = yes_feats[:801], yes_labels[:801]\n",
    "print(len(yes_feats))"
   ]
  },
  {
   "cell_type": "markdown",
   "metadata": {},
   "source": [
    "##### features"
   ]
  },
  {
   "cell_type": "code",
   "execution_count": 6,
   "metadata": {},
   "outputs": [
    {
     "name": "stdout",
     "output_type": "stream",
     "text": [
      "801\n",
      "824\n",
      "118\n",
      "120\n"
     ]
    }
   ],
   "source": [
    "# training data\n",
    "no_feats, no_labels = group_vectors(no_feats_txtbox, no_feats_human, 0)\n",
    "print(len(no_feats))\n",
    "yes_feats, yes_labels = group_vectors(yes_feats_txtbox, yes_feats_human, 1)\n",
    "print(len(yes_feats))\n",
    "\n",
    "# test data\n",
    "te_no_feats, te_no_labels = group_vectors(te_no_feats_txtbox, te_no_feats_human, 0)\n",
    "print(len(te_no_feats))\n",
    "te_yes_feats, te_yes_labels = group_vectors(te_yes_feats_txtbox, te_yes_feats_human, 1)\n",
    "print(len(te_yes_feats))"
   ]
  },
  {
   "cell_type": "markdown",
   "metadata": {},
   "source": [
    "##### combined features"
   ]
  },
  {
   "cell_type": "code",
   "execution_count": 6,
   "metadata": {},
   "outputs": [
    {
     "name": "stdout",
     "output_type": "stream",
     "text": [
      "869\n",
      "903\n",
      "122\n",
      "122\n"
     ]
    }
   ],
   "source": [
    "# training data\n",
    "no_feats, no_labels = no_feats_combined, np.ones(len(no_feats_combined)).astype(int) * 0\n",
    "print(len(no_feats))\n",
    "yes_feats, yes_labels = yes_feats_combined, np.ones(len(yes_feats_combined)).astype(int) * 1\n",
    "print(len(yes_feats))\n",
    "\n",
    "# test data\n",
    "te_no_feats, te_no_labels = te_no_feats_combined, np.ones(len(te_no_feats_combined)).astype(int) * 0\n",
    "print(len(te_no_feats))\n",
    "te_yes_feats, te_yes_labels = te_yes_feats_combined, np.ones(len(te_yes_feats_combined)).astype(int) * 1\n",
    "print(len(te_yes_feats))"
   ]
  },
  {
   "cell_type": "markdown",
   "metadata": {},
   "source": [
    "##### keypoints"
   ]
  },
  {
   "cell_type": "code",
   "execution_count": 7,
   "metadata": {},
   "outputs": [
    {
     "name": "stdout",
     "output_type": "stream",
     "text": [
      "801\n",
      "824\n",
      "118\n",
      "120\n"
     ]
    }
   ],
   "source": [
    "# training data\n",
    "no_feats, no_labels = group_vectors(no_kps_txtbox, no_kps_human, 0)\n",
    "print(len(no_feats))\n",
    "yes_feats, yes_labels = group_vectors(yes_kps_txtbox, yes_kps_human, 1)\n",
    "print(len(yes_feats))\n",
    "\n",
    "# test data\n",
    "te_no_feats, te_no_labels = group_vectors(te_no_kps_txtbox, te_no_kps_human, 0)\n",
    "print(len(te_no_feats))\n",
    "te_yes_feats, te_yes_labels = group_vectors(te_yes_kps_txtbox, te_yes_kps_human, 1)\n",
    "print(len(te_yes_feats))"
   ]
  },
  {
   "cell_type": "markdown",
   "metadata": {},
   "source": [
    "### randomize"
   ]
  },
  {
   "cell_type": "code",
   "execution_count": 9,
   "metadata": {},
   "outputs": [],
   "source": [
    "train_indices = np.random.permutation(len(no_feats) + len(yes_feats))\n",
    "test_indices = np.random.permutation(len(te_yes_feats) + len(te_no_feats))"
   ]
  },
  {
   "cell_type": "code",
   "execution_count": 10,
   "metadata": {},
   "outputs": [
    {
     "name": "stdout",
     "output_type": "stream",
     "text": [
      "1602\n",
      "238\n"
     ]
    }
   ],
   "source": [
    "# training data\n",
    "train_data = np.concatenate((np.asarray(no_feats),np.asarray(yes_feats)))\n",
    "train_labels = np.concatenate((np.asarray(no_labels),np.asarray(yes_labels)))\n",
    "rand_train_data = train_data[train_indices]\n",
    "rand_train_labels = train_labels[train_indices]\n",
    "print(len(train_data))\n",
    "\n",
    "# test data\n",
    "test_data = np.concatenate((np.asarray(te_no_feats),np.asarray(te_yes_feats)))\n",
    "test_labels = np.concatenate((np.asarray(te_no_labels),np.asarray(te_yes_labels))) \n",
    "rand_test_data = test_data[test_indices]\n",
    "rand_test_labels = test_labels[test_indices]\n",
    "print(len(test_data))"
   ]
  },
  {
   "cell_type": "markdown",
   "metadata": {},
   "source": [
    "### Save as minidb"
   ]
  },
  {
   "cell_type": "code",
   "execution_count": 12,
   "metadata": {},
   "outputs": [],
   "source": [
    "# Now, actually write the db.\n",
    "def write_db(db_type, db_name, features, labels):\n",
    "    db = core.C.create_db(db_type, db_name, core.C.Mode.write)\n",
    "    transaction = db.new_transaction()\n",
    "    for i in range(features.shape[0]):\n",
    "        feature_and_label = caffe2_pb2.TensorProtos()\n",
    "        feature_and_label.protos.extend([\n",
    "            utils.NumpyArrayToCaffe2Tensor(features[i]),\n",
    "            utils.NumpyArrayToCaffe2Tensor(labels[i])\n",
    "        ])\n",
    "        transaction.put(\n",
    "            'train_%03d'.format(i),\n",
    "            feature_and_label.SerializeToString())\n",
    "    # Close the transaction, and then close the db.\n",
    "    del transaction\n",
    "    del db\n",
    "\n",
    "write_db(\"minidb\", \"train.minidb\", train_data, train_labels)\n",
    "write_db(\"minidb\", \"test.minidb\", test_data, test_labels)"
   ]
  },
  {
   "cell_type": "markdown",
   "metadata": {},
   "source": [
    "### SVM"
   ]
  },
  {
   "cell_type": "code",
   "execution_count": 11,
   "metadata": {},
   "outputs": [],
   "source": [
    "# for the support vector machine classifier\n",
    "import sklearn\n",
    "from sklearn import datasets, svm, metrics"
   ]
  },
  {
   "cell_type": "code",
   "execution_count": 12,
   "metadata": {},
   "outputs": [
    {
     "data": {
      "text/plain": [
       "SVC(C=1, break_ties=False, cache_size=200, class_weight=None, coef0=0.0,\n",
       "    decision_function_shape='ovr', degree=3, gamma='scale', kernel='linear',\n",
       "    max_iter=-1, probability=True, random_state=None, shrinking=True, tol=0.001,\n",
       "    verbose=False)"
      ]
     },
     "execution_count": 12,
     "metadata": {},
     "output_type": "execute_result"
    }
   ],
   "source": [
    "model = sklearn.svm.SVC(kernel=\"linear\", C=1, probability=True)\n",
    "model.fit(train_data, train_labels)"
   ]
  },
  {
   "cell_type": "code",
   "execution_count": 13,
   "metadata": {},
   "outputs": [
    {
     "name": "stdout",
     "output_type": "stream",
     "text": [
      "Accuracy training : 0.6329588014981273 \n"
     ]
    }
   ],
   "source": [
    "predicted_tr = model.predict(train_data)\n",
    "print(\"Accuracy training : %s \" % metrics.accuracy_score(train_labels, predicted_tr))"
   ]
  },
  {
   "cell_type": "code",
   "execution_count": 14,
   "metadata": {},
   "outputs": [
    {
     "name": "stdout",
     "output_type": "stream",
     "text": [
      "Classification report for classifier SVC(C=1, break_ties=False, cache_size=200, class_weight=None, coef0=0.0,\n",
      "    decision_function_shape='ovr', degree=3, gamma='scale', kernel='linear',\n",
      "    max_iter=-1, probability=True, random_state=None, shrinking=True, tol=0.001,\n",
      "    verbose=False):\n",
      "              precision    recall  f1-score   support\n",
      "\n",
      "           0       0.63      0.65      0.64       118\n",
      "           1       0.64      0.62      0.63       120\n",
      "\n",
      "    accuracy                           0.63       238\n",
      "   macro avg       0.63      0.63      0.63       238\n",
      "weighted avg       0.63      0.63      0.63       238\n",
      "\n",
      "\n",
      "Confusion matrix:\n",
      " [[77 41]\n",
      " [46 74]] \n",
      "\n",
      "Accuracy : 0.634453781512605 \n"
     ]
    }
   ],
   "source": [
    "# predictions and stats\n",
    "expected = test_labels\n",
    "predicted = model.predict(test_data)\n",
    "\n",
    "print(\"Classification report for classifier %s:\\n%s\\n\"\n",
    "      % (model, metrics.classification_report(expected, predicted)))\n",
    "print(\"Confusion matrix:\\n %s \\n\" % metrics.confusion_matrix(expected, predicted))\n",
    "print(\"Accuracy : %s \" % metrics.accuracy_score(expected, predicted))"
   ]
  },
  {
   "cell_type": "code",
   "execution_count": null,
   "metadata": {},
   "outputs": [],
   "source": []
  }
 ],
 "metadata": {
  "kernelspec": {
   "display_name": "caffe2",
   "language": "python",
   "name": "caffe2"
  },
  "language_info": {
   "codemirror_mode": {
    "name": "ipython",
    "version": 3
   },
   "file_extension": ".py",
   "mimetype": "text/x-python",
   "name": "python",
   "nbconvert_exporter": "python",
   "pygments_lexer": "ipython3",
   "version": "3.7.6"
  }
 },
 "nbformat": 4,
 "nbformat_minor": 2
}
